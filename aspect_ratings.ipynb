{
 "cells": [
  {
   "cell_type": "code",
   "execution_count": 3,
   "metadata": {},
   "outputs": [],
   "source": [
    "import nltk\n",
    "#nltk.download('punkt')\n",
    "from nltk.corpus import stopwords\n",
    "from nltk.tokenize import word_tokenize\n",
    "from nltk.stem import PorterStemmer\n",
    "from gensim.models import KeyedVectors"
   ]
  },
  {
   "cell_type": "code",
   "execution_count": 151,
   "metadata": {},
   "outputs": [],
   "source": [
    "# Similarity threshold\n",
    "THRESHOLD = 0.35"
   ]
  },
  {
   "cell_type": "code",
   "execution_count": 154,
   "metadata": {},
   "outputs": [],
   "source": [
    "example_sent = \"the room was very small but very clean and stylish\""
   ]
  },
  {
   "cell_type": "code",
   "execution_count": 98,
   "metadata": {},
   "outputs": [],
   "source": [
    "word_tokens = word_tokenize(example_sent)"
   ]
  },
  {
   "cell_type": "code",
   "execution_count": 100,
   "metadata": {},
   "outputs": [],
   "source": [
    "stop_word = []"
   ]
  },
  {
   "cell_type": "code",
   "execution_count": 101,
   "metadata": {},
   "outputs": [
    {
     "name": "stdout",
     "output_type": "stream",
     "text": [
      "File reading done.\n"
     ]
    }
   ],
   "source": [
    "with open('stopwords.txt') as fd:\n",
    "    for line in fd:\n",
    "        word = line.replace('\\n','').replace('\\r','')\n",
    "        stop_word.append(word)\n",
    "    else:\n",
    "        print \"File reading done.\"\n",
    "        "
   ]
  },
  {
   "cell_type": "code",
   "execution_count": 103,
   "metadata": {},
   "outputs": [],
   "source": [
    "filtered_sentence = [w for w in word_tokens if not w in stop_word]"
   ]
  },
  {
   "cell_type": "code",
   "execution_count": 105,
   "metadata": {},
   "outputs": [
    {
     "data": {
      "text/plain": [
       "['room', 'small', 'clean', 'stylish']"
      ]
     },
     "execution_count": 105,
     "metadata": {},
     "output_type": "execute_result"
    }
   ],
   "source": [
    "filtered_sentence"
   ]
  },
  {
   "cell_type": "code",
   "execution_count": 106,
   "metadata": {},
   "outputs": [],
   "source": [
    "ps = PorterStemmer()"
   ]
  },
  {
   "cell_type": "code",
   "execution_count": 126,
   "metadata": {},
   "outputs": [],
   "source": [
    "sentence_stem_words = []"
   ]
  },
  {
   "cell_type": "code",
   "execution_count": 127,
   "metadata": {
    "scrolled": true
   },
   "outputs": [
    {
     "name": "stdout",
     "output_type": "stream",
     "text": [
      "('room', ' : ', 'room')\n",
      "('small', ' : ', 'small')\n",
      "('clean', ' : ', 'clean')\n",
      "('stylish', ' : ', 'stylish')\n"
     ]
    }
   ],
   "source": [
    "for w in filtered_sentence:\n",
    "    print(w, \" : \", ps.stem(w))\n",
    "    sentence_stem_words.append(ps.stem(w))"
   ]
  },
  {
   "cell_type": "code",
   "execution_count": 128,
   "metadata": {},
   "outputs": [
    {
     "data": {
      "text/plain": [
       "['room', 'small', 'clean', 'stylish']"
      ]
     },
     "execution_count": 128,
     "metadata": {},
     "output_type": "execute_result"
    }
   ],
   "source": [
    "sentence_stem_words"
   ]
  },
  {
   "cell_type": "code",
   "execution_count": 26,
   "metadata": {},
   "outputs": [],
   "source": [
    "model = KeyedVectors.load_word2vec_format(\"Code\\sentiment\\GoogleNews-vectors-negative300.bin\", binary=True)"
   ]
  },
  {
   "cell_type": "code",
   "execution_count": 116,
   "metadata": {},
   "outputs": [
    {
     "name": "stdout",
     "output_type": "stream",
     "text": [
      "(300L,)\n"
     ]
    }
   ],
   "source": [
    "vector = model['easy']\n",
    "print vector.shape\n",
    "#print vector"
   ]
  },
  {
   "cell_type": "code",
   "execution_count": 117,
   "metadata": {},
   "outputs": [
    {
     "name": "stdout",
     "output_type": "stream",
     "text": [
      "0.5717043285477517\n"
     ]
    }
   ],
   "source": [
    "print model.similarity('straightforward', 'easy')"
   ]
  },
  {
   "cell_type": "code",
   "execution_count": 140,
   "metadata": {},
   "outputs": [],
   "source": [
    "aspects_seeds = {\n",
    "    \"value\" : ['value', 'price', 'quality', 'worth'],\n",
    "    \"room\" : ['room', 'suite', 'view', 'bed'],\n",
    "    \"location\" : ['location', 'traffic', 'minute', 'restaurant'],\n",
    "    \"cleanliness\" : ['clean', 'dirty', 'maintain', 'smell'],\n",
    "}"
   ]
  },
  {
   "cell_type": "code",
   "execution_count": 113,
   "metadata": {},
   "outputs": [
    {
     "data": {
      "text/plain": [
       "dict"
      ]
     },
     "execution_count": 113,
     "metadata": {},
     "output_type": "execute_result"
    }
   ],
   "source": [
    "type(aspects_seeds)"
   ]
  },
  {
   "cell_type": "code",
   "execution_count": 121,
   "metadata": {},
   "outputs": [
    {
     "name": "stdout",
     "output_type": "stream",
     "text": [
      "cleanliness ['clean', 'dirty', 'maintain', 'smell']\n",
      "price ['room', 'suite', 'view', 'bed']\n",
      "location ['location', 'traffic', 'minute', 'restaurant']\n",
      "value ['value', 'price', 'quality', 'worth']\n"
     ]
    }
   ],
   "source": [
    "for aspect, seeds in aspects_seeds.iteritems():\n",
    "    print aspect, seeds"
   ]
  },
  {
   "cell_type": "code",
   "execution_count": null,
   "metadata": {},
   "outputs": [],
   "source": [
    "aspect_seeds_stem_words = dict()"
   ]
  },
  {
   "cell_type": "markdown",
   "metadata": {},
   "source": [
    "Convert all the seed words into its stem"
   ]
  },
  {
   "cell_type": "code",
   "execution_count": 124,
   "metadata": {},
   "outputs": [],
   "source": [
    "for aspect, seeds in aspects_seeds.iteritems():\n",
    "    aspect_seeds_stem_words[aspect] = list()\n",
    "    for seed in seeds:\n",
    "        aspect_seeds_stem_words[aspect].append(ps.stem(seed))"
   ]
  },
  {
   "cell_type": "code",
   "execution_count": 125,
   "metadata": {},
   "outputs": [
    {
     "data": {
      "text/plain": [
       "{'cleanliness': ['clean', u'dirti', 'maintain', 'smell'],\n",
       " 'location': [u'locat', 'traffic', u'minut', u'restaur'],\n",
       " 'price': ['room', u'suit', 'view', 'bed'],\n",
       " 'value': [u'valu', 'price', u'qualiti', 'worth']}"
      ]
     },
     "execution_count": 125,
     "metadata": {},
     "output_type": "execute_result"
    }
   ],
   "source": [
    "aspect_seeds_stem_words"
   ]
  },
  {
   "cell_type": "code",
   "execution_count": 152,
   "metadata": {},
   "outputs": [
    {
     "name": "stdout",
     "output_type": "stream",
     "text": [
      "compare similarity between word: room and seed word:  clean  :score: 0.12855942682632465\n",
      "compare similarity between word: room and seed word:  dirty  :score: 0.15957073778752398\n",
      "compare similarity between word: room and seed word:  maintain  :score: 0.06214431622714883\n",
      "compare similarity between word: room and seed word:  smell  :score: 0.14379050256618323\n",
      "compare similarity between word: room and seed word:  room  :score: 1.0000000000000002\n",
      "compare similarity between word: room and seed word:  suite  :score: 0.36945748170272275\n",
      "compare similarity between word: room and seed word:  view  :score: 0.13608335077163491\n",
      "compare similarity between word: room and seed word:  bed  :score: 0.4871586117617375\n",
      "compare similarity between word: room and seed word:  value  :score: 0.012570985900729137\n",
      "compare similarity between word: room and seed word:  price  :score: 0.04113056266717219\n",
      "compare similarity between word: room and seed word:  quality  :score: 0.04793091821973548\n",
      "compare similarity between word: room and seed word:  worth  :score: 0.07295472211216647\n",
      "compare similarity between word: room and seed word:  location  :score: 0.13973994411526203\n",
      "compare similarity between word: room and seed word:  traffic  :score: 0.04628944875827419\n",
      "compare similarity between word: room and seed word:  minute  :score: 0.20047958328345547\n",
      "compare similarity between word: room and seed word:  restaurant  :score: 0.22179641063531685\n",
      "compare similarity between word: small and seed word:  clean  :score: 0.14336157510412587\n",
      "compare similarity between word: small and seed word:  dirty  :score: 0.14355368938249502\n",
      "compare similarity between word: small and seed word:  maintain  :score: 0.07343030656327677\n",
      "compare similarity between word: small and seed word:  smell  :score: 0.03028311706368125\n",
      "compare similarity between word: small and seed word:  room  :score: 0.18600672420674427\n",
      "compare similarity between word: small and seed word:  suite  :score: 0.022417959021511037\n",
      "compare similarity between word: small and seed word:  view  :score: 0.0943112074870976\n",
      "compare similarity between word: small and seed word:  bed  :score: 0.07393477449061378\n",
      "compare similarity between word: small and seed word:  value  :score: 0.06334721973834358\n",
      "compare similarity between word: small and seed word:  price  :score: 0.0959482930333218\n",
      "compare similarity between word: small and seed word:  quality  :score: 0.08546069999156282\n",
      "compare similarity between word: small and seed word:  worth  :score: 0.09149139003130984\n",
      "compare similarity between word: small and seed word:  location  :score: 0.12771988421018582\n",
      "compare similarity between word: small and seed word:  traffic  :score: 0.09181944720413035\n",
      "compare similarity between word: small and seed word:  minute  :score: 0.05844866955640112\n",
      "compare similarity between word: small and seed word:  restaurant  :score: 0.15431514436464427\n",
      "compare similarity between word: clean and seed word:  clean  :score: 0.9999999999999997\n",
      "compare similarity between word: clean and seed word:  dirty  :score: 0.5180182181296203\n",
      "compare similarity between word: clean and seed word:  maintain  :score: 0.21188403692369728\n",
      "compare similarity between word: clean and seed word:  smell  :score: 0.23296498144112002\n",
      "compare similarity between word: clean and seed word:  room  :score: 0.12855942682632465\n",
      "compare similarity between word: clean and seed word:  suite  :score: 0.06402424557598893\n",
      "compare similarity between word: clean and seed word:  view  :score: 0.04690627981742822\n",
      "compare similarity between word: clean and seed word:  bed  :score: 0.14303752576679135\n",
      "compare similarity between word: clean and seed word:  value  :score: 0.026112069336228113\n",
      "compare similarity between word: clean and seed word:  price  :score: 0.031757896846145946\n",
      "compare similarity between word: clean and seed word:  quality  :score: 0.2277813312750856\n",
      "compare similarity between word: clean and seed word:  worth  :score: 0.11643344276854257\n",
      "compare similarity between word: clean and seed word:  location  :score: 0.025209671583659374\n",
      "compare similarity between word: clean and seed word:  traffic  :score: 0.036830874025446915\n",
      "compare similarity between word: clean and seed word:  minute  :score: 0.05761148578101577\n",
      "compare similarity between word: clean and seed word:  restaurant  :score: 0.08123674123533997\n",
      "compare similarity between word: stylish and seed word:  clean  :score: 0.24621040788439988\n",
      "compare similarity between word: stylish and seed word:  dirty  :score: 0.15802225203412285\n",
      "compare similarity between word: stylish and seed word:  maintain  :score: 0.07627698196184315\n",
      "compare similarity between word: stylish and seed word:  smell  :score: 0.04514991486655866\n",
      "compare similarity between word: stylish and seed word:  room  :score: 0.17387767486810024\n",
      "compare similarity between word: stylish and seed word:  suite  :score: 0.18896147314045755\n",
      "compare similarity between word: stylish and seed word:  view  :score: 0.03468000770630254\n",
      "compare similarity between word: stylish and seed word:  bed  :score: 0.06411194017972933\n",
      "compare similarity between word: stylish and seed word:  value  :score: 0.06943353764950161\n",
      "compare similarity between word: stylish and seed word:  price  :score: 0.1329727179403778\n",
      "compare similarity between word: stylish and seed word:  quality  :score: 0.22354085624402514\n",
      "compare similarity between word: stylish and seed word:  worth  :score: 0.11074523569699096\n",
      "compare similarity between word: stylish and seed word:  location  :score: 0.08270290102989691\n",
      "compare similarity between word: stylish and seed word:  traffic  :score: 0.019456178714715732\n",
      "compare similarity between word: stylish and seed word:  minute  :score: 0.07780384312064392\n",
      "compare similarity between word: stylish and seed word:  restaurant  :score: 0.1641834450639279\n"
     ]
    }
   ],
   "source": [
    "word_aspect = dict()\n",
    "top_aspects = list()\n",
    "for word in sentence_stem_words:\n",
    "    for aspect, seeds in aspects_seeds.iteritems():\n",
    "        word_aspect[aspect] = 0\n",
    "        for seed in seeds:\n",
    "            # calculate simmilary between word and the acpect seed word\n",
    "            print \"compare similarity between word:\", word, \"and seed word: \", seed, \" :score:\", model.similarity(word, seed)\n",
    "            word_aspect[aspect] += model.similarity(word, seed)\n",
    "        # calculate the mean of the similarity with each seed word.        \n",
    "        word_aspect[aspect] = word_aspect[aspect] / len(seeds)\n",
    "    # capture top aspects for the word\n",
    "    for aspect, mean_similarity in word_aspect.iteritems():\n",
    "        if mean_similarity > THRESHOLD:\n",
    "            top_aspects.append(aspect)    "
   ]
  },
  {
   "cell_type": "code",
   "execution_count": 153,
   "metadata": {},
   "outputs": [
    {
     "data": {
      "text/plain": [
       "['room', 'cleanliness']"
      ]
     },
     "execution_count": 153,
     "metadata": {},
     "output_type": "execute_result"
    }
   ],
   "source": [
    "top_aspects"
   ]
  },
  {
   "cell_type": "code",
   "execution_count": 156,
   "metadata": {},
   "outputs": [],
   "source": [
    "example_sent2 = \"the room was little especially for the price but is was really clean\""
   ]
  },
  {
   "cell_type": "code",
   "execution_count": 159,
   "metadata": {},
   "outputs": [
    {
     "name": "stdout",
     "output_type": "stream",
     "text": [
      "('room', ' : ', 'room')\n",
      "('especially', ' : ', u'especi')\n",
      "('price', ' : ', 'price')\n",
      "('clean', ' : ', 'clean')\n"
     ]
    }
   ],
   "source": [
    "word_tokens2 = word_tokenize(example_sent2)\n",
    "filtered_sentence2 = [w for w in word_tokens2 if not w in stop_word]\n",
    "sentence_stem_words2 = []\n",
    "for w in filtered_sentence2:\n",
    "    print(w, \" : \", ps.stem(w))\n",
    "    sentence_stem_words2.append(ps.stem(w))"
   ]
  },
  {
   "cell_type": "code",
   "execution_count": 160,
   "metadata": {},
   "outputs": [
    {
     "name": "stdout",
     "output_type": "stream",
     "text": [
      "compare similarity between word: room and seed word:  clean  :score: 0.12855942682632465\n",
      "compare similarity between word: room and seed word:  dirty  :score: 0.15957073778752398\n",
      "compare similarity between word: room and seed word:  maintain  :score: 0.06214431622714883\n",
      "compare similarity between word: room and seed word:  smell  :score: 0.14379050256618323\n",
      "compare similarity between word: room and seed word:  room  :score: 1.0000000000000002\n",
      "compare similarity between word: room and seed word:  suite  :score: 0.36945748170272275\n",
      "compare similarity between word: room and seed word:  view  :score: 0.13608335077163491\n",
      "compare similarity between word: room and seed word:  bed  :score: 0.4871586117617375\n",
      "compare similarity between word: room and seed word:  value  :score: 0.012570985900729137\n",
      "compare similarity between word: room and seed word:  price  :score: 0.04113056266717219\n",
      "compare similarity between word: room and seed word:  quality  :score: 0.04793091821973548\n",
      "compare similarity between word: room and seed word:  worth  :score: 0.07295472211216647\n",
      "compare similarity between word: room and seed word:  location  :score: 0.13973994411526203\n",
      "compare similarity between word: room and seed word:  traffic  :score: 0.04628944875827419\n",
      "compare similarity between word: room and seed word:  minute  :score: 0.20047958328345547\n",
      "compare similarity between word: room and seed word:  restaurant  :score: 0.22179641063531685\n",
      "compare similarity between word: especi and seed word:  clean  :score:"
     ]
    },
    {
     "ename": "KeyError",
     "evalue": "u\"word 'especi' not in vocabulary\"",
     "output_type": "error",
     "traceback": [
      "\u001b[1;31m---------------------------------------------------------------------------\u001b[0m",
      "\u001b[1;31mKeyError\u001b[0m                                  Traceback (most recent call last)",
      "\u001b[1;32m<ipython-input-160-27e8548b9685>\u001b[0m in \u001b[0;36m<module>\u001b[1;34m()\u001b[0m\n\u001b[0;32m      6\u001b[0m         \u001b[1;32mfor\u001b[0m \u001b[0mseed\u001b[0m \u001b[1;32min\u001b[0m \u001b[0mseeds\u001b[0m\u001b[1;33m:\u001b[0m\u001b[1;33m\u001b[0m\u001b[0m\n\u001b[0;32m      7\u001b[0m             \u001b[1;31m# calculate simmilary between word and the acpect seed word\u001b[0m\u001b[1;33m\u001b[0m\u001b[1;33m\u001b[0m\u001b[0m\n\u001b[1;32m----> 8\u001b[1;33m             \u001b[1;32mprint\u001b[0m \u001b[1;34m\"compare similarity between word:\"\u001b[0m\u001b[1;33m,\u001b[0m \u001b[0mword\u001b[0m\u001b[1;33m,\u001b[0m \u001b[1;34m\"and seed word: \"\u001b[0m\u001b[1;33m,\u001b[0m \u001b[0mseed\u001b[0m\u001b[1;33m,\u001b[0m \u001b[1;34m\" :score:\"\u001b[0m\u001b[1;33m,\u001b[0m \u001b[0mmodel\u001b[0m\u001b[1;33m.\u001b[0m\u001b[0msimilarity\u001b[0m\u001b[1;33m(\u001b[0m\u001b[0mword\u001b[0m\u001b[1;33m,\u001b[0m \u001b[0mseed\u001b[0m\u001b[1;33m)\u001b[0m\u001b[1;33m\u001b[0m\u001b[0m\n\u001b[0m\u001b[0;32m      9\u001b[0m             \u001b[0mword_aspect\u001b[0m\u001b[1;33m[\u001b[0m\u001b[0maspect\u001b[0m\u001b[1;33m]\u001b[0m \u001b[1;33m+=\u001b[0m \u001b[0mmodel\u001b[0m\u001b[1;33m.\u001b[0m\u001b[0msimilarity\u001b[0m\u001b[1;33m(\u001b[0m\u001b[0mword\u001b[0m\u001b[1;33m,\u001b[0m \u001b[0mseed\u001b[0m\u001b[1;33m)\u001b[0m\u001b[1;33m\u001b[0m\u001b[0m\n\u001b[0;32m     10\u001b[0m         \u001b[1;31m# calculate the mean of the similarity with each seed word.\u001b[0m\u001b[1;33m\u001b[0m\u001b[1;33m\u001b[0m\u001b[0m\n",
      "\u001b[1;32mC:\\Users\\uidn3350\\AppData\\Local\\Continuum\\anaconda2\\lib\\site-packages\\gensim\\models\\keyedvectors.pyc\u001b[0m in \u001b[0;36msimilarity\u001b[1;34m(self, w1, w2)\u001b[0m\n\u001b[0;32m    826\u001b[0m \u001b[1;33m\u001b[0m\u001b[0m\n\u001b[0;32m    827\u001b[0m         \"\"\"\n\u001b[1;32m--> 828\u001b[1;33m         \u001b[1;32mreturn\u001b[0m \u001b[0mdot\u001b[0m\u001b[1;33m(\u001b[0m\u001b[0mmatutils\u001b[0m\u001b[1;33m.\u001b[0m\u001b[0munitvec\u001b[0m\u001b[1;33m(\u001b[0m\u001b[0mself\u001b[0m\u001b[1;33m[\u001b[0m\u001b[0mw1\u001b[0m\u001b[1;33m]\u001b[0m\u001b[1;33m)\u001b[0m\u001b[1;33m,\u001b[0m \u001b[0mmatutils\u001b[0m\u001b[1;33m.\u001b[0m\u001b[0munitvec\u001b[0m\u001b[1;33m(\u001b[0m\u001b[0mself\u001b[0m\u001b[1;33m[\u001b[0m\u001b[0mw2\u001b[0m\u001b[1;33m]\u001b[0m\u001b[1;33m)\u001b[0m\u001b[1;33m)\u001b[0m\u001b[1;33m\u001b[0m\u001b[0m\n\u001b[0m\u001b[0;32m    829\u001b[0m \u001b[1;33m\u001b[0m\u001b[0m\n\u001b[0;32m    830\u001b[0m     \u001b[1;32mdef\u001b[0m \u001b[0mn_similarity\u001b[0m\u001b[1;33m(\u001b[0m\u001b[0mself\u001b[0m\u001b[1;33m,\u001b[0m \u001b[0mws1\u001b[0m\u001b[1;33m,\u001b[0m \u001b[0mws2\u001b[0m\u001b[1;33m)\u001b[0m\u001b[1;33m:\u001b[0m\u001b[1;33m\u001b[0m\u001b[0m\n",
      "\u001b[1;32mC:\\Users\\uidn3350\\AppData\\Local\\Continuum\\anaconda2\\lib\\site-packages\\gensim\\models\\keyedvectors.pyc\u001b[0m in \u001b[0;36m__getitem__\u001b[1;34m(self, entities)\u001b[0m\n\u001b[0;32m    167\u001b[0m         \u001b[1;32mif\u001b[0m \u001b[0misinstance\u001b[0m\u001b[1;33m(\u001b[0m\u001b[0mentities\u001b[0m\u001b[1;33m,\u001b[0m \u001b[0mstring_types\u001b[0m\u001b[1;33m)\u001b[0m\u001b[1;33m:\u001b[0m\u001b[1;33m\u001b[0m\u001b[0m\n\u001b[0;32m    168\u001b[0m             \u001b[1;31m# allow calls like trained_model['office'], as a shorthand for trained_model[['office']]\u001b[0m\u001b[1;33m\u001b[0m\u001b[1;33m\u001b[0m\u001b[0m\n\u001b[1;32m--> 169\u001b[1;33m             \u001b[1;32mreturn\u001b[0m \u001b[0mself\u001b[0m\u001b[1;33m.\u001b[0m\u001b[0mget_vector\u001b[0m\u001b[1;33m(\u001b[0m\u001b[0mentities\u001b[0m\u001b[1;33m)\u001b[0m\u001b[1;33m\u001b[0m\u001b[0m\n\u001b[0m\u001b[0;32m    170\u001b[0m \u001b[1;33m\u001b[0m\u001b[0m\n\u001b[0;32m    171\u001b[0m         \u001b[1;32mreturn\u001b[0m \u001b[0mvstack\u001b[0m\u001b[1;33m(\u001b[0m\u001b[1;33m[\u001b[0m\u001b[0mself\u001b[0m\u001b[1;33m.\u001b[0m\u001b[0mget_vector\u001b[0m\u001b[1;33m(\u001b[0m\u001b[0mentity\u001b[0m\u001b[1;33m)\u001b[0m \u001b[1;32mfor\u001b[0m \u001b[0mentity\u001b[0m \u001b[1;32min\u001b[0m \u001b[0mentities\u001b[0m\u001b[1;33m]\u001b[0m\u001b[1;33m)\u001b[0m\u001b[1;33m\u001b[0m\u001b[0m\n",
      "\u001b[1;32mC:\\Users\\uidn3350\\AppData\\Local\\Continuum\\anaconda2\\lib\\site-packages\\gensim\\models\\keyedvectors.pyc\u001b[0m in \u001b[0;36mget_vector\u001b[1;34m(self, word)\u001b[0m\n\u001b[0;32m    275\u001b[0m \u001b[1;33m\u001b[0m\u001b[0m\n\u001b[0;32m    276\u001b[0m     \u001b[1;32mdef\u001b[0m \u001b[0mget_vector\u001b[0m\u001b[1;33m(\u001b[0m\u001b[0mself\u001b[0m\u001b[1;33m,\u001b[0m \u001b[0mword\u001b[0m\u001b[1;33m)\u001b[0m\u001b[1;33m:\u001b[0m\u001b[1;33m\u001b[0m\u001b[0m\n\u001b[1;32m--> 277\u001b[1;33m         \u001b[1;32mreturn\u001b[0m \u001b[0mself\u001b[0m\u001b[1;33m.\u001b[0m\u001b[0mword_vec\u001b[0m\u001b[1;33m(\u001b[0m\u001b[0mword\u001b[0m\u001b[1;33m)\u001b[0m\u001b[1;33m\u001b[0m\u001b[0m\n\u001b[0m\u001b[0;32m    278\u001b[0m \u001b[1;33m\u001b[0m\u001b[0m\n\u001b[0;32m    279\u001b[0m     \u001b[1;32mdef\u001b[0m \u001b[0mwords_closer_than\u001b[0m\u001b[1;33m(\u001b[0m\u001b[0mself\u001b[0m\u001b[1;33m,\u001b[0m \u001b[0mw1\u001b[0m\u001b[1;33m,\u001b[0m \u001b[0mw2\u001b[0m\u001b[1;33m)\u001b[0m\u001b[1;33m:\u001b[0m\u001b[1;33m\u001b[0m\u001b[0m\n",
      "\u001b[1;32mC:\\Users\\uidn3350\\AppData\\Local\\Continuum\\anaconda2\\lib\\site-packages\\gensim\\models\\keyedvectors.pyc\u001b[0m in \u001b[0;36mword_vec\u001b[1;34m(self, word, use_norm)\u001b[0m\n\u001b[0;32m    272\u001b[0m             \u001b[1;32mreturn\u001b[0m \u001b[0mresult\u001b[0m\u001b[1;33m\u001b[0m\u001b[0m\n\u001b[0;32m    273\u001b[0m         \u001b[1;32melse\u001b[0m\u001b[1;33m:\u001b[0m\u001b[1;33m\u001b[0m\u001b[0m\n\u001b[1;32m--> 274\u001b[1;33m             \u001b[1;32mraise\u001b[0m \u001b[0mKeyError\u001b[0m\u001b[1;33m(\u001b[0m\u001b[1;34m\"word '%s' not in vocabulary\"\u001b[0m \u001b[1;33m%\u001b[0m \u001b[0mword\u001b[0m\u001b[1;33m)\u001b[0m\u001b[1;33m\u001b[0m\u001b[0m\n\u001b[0m\u001b[0;32m    275\u001b[0m \u001b[1;33m\u001b[0m\u001b[0m\n\u001b[0;32m    276\u001b[0m     \u001b[1;32mdef\u001b[0m \u001b[0mget_vector\u001b[0m\u001b[1;33m(\u001b[0m\u001b[0mself\u001b[0m\u001b[1;33m,\u001b[0m \u001b[0mword\u001b[0m\u001b[1;33m)\u001b[0m\u001b[1;33m:\u001b[0m\u001b[1;33m\u001b[0m\u001b[0m\n",
      "\u001b[1;31mKeyError\u001b[0m: u\"word 'especi' not in vocabulary\""
     ]
    }
   ],
   "source": [
    "word_aspect = dict()\n",
    "top_aspects = list()\n",
    "for word in sentence_stem_words2:\n",
    "    for aspect, seeds in aspects_seeds.iteritems():\n",
    "        word_aspect[aspect] = 0\n",
    "        for seed in seeds:\n",
    "            # calculate simmilary between word and the acpect seed word\n",
    "            print \"compare similarity between word:\", word, \"and seed word: \", seed, \" :score:\", model.similarity(word, seed)\n",
    "            word_aspect[aspect] += model.similarity(word, seed)\n",
    "        # calculate the mean of the similarity with each seed word.        \n",
    "        word_aspect[aspect] = word_aspect[aspect] / len(seeds)\n",
    "    # capture top aspects for the word\n",
    "    for aspect, mean_similarity in word_aspect.iteritems():\n",
    "        if mean_similarity > THRESHOLD:\n",
    "            top_aspects.append(aspect)    "
   ]
  },
  {
   "cell_type": "code",
   "execution_count": 162,
   "metadata": {},
   "outputs": [
    {
     "name": "stdout",
     "output_type": "stream",
     "text": [
      " compare similarity between word: room and seed word:  clean  :score: 0.12855942682632465\n",
      "compare similarity between word: room and seed word:  dirty  :score: 0.15957073778752398\n",
      "compare similarity between word: room and seed word:  maintain  :score: 0.06214431622714883\n",
      "compare similarity between word: room and seed word:  smell  :score: 0.14379050256618323\n",
      "compare similarity between word: room and seed word:  room  :score: 1.0000000000000002\n",
      "compare similarity between word: room and seed word:  suite  :score: 0.36945748170272275\n",
      "compare similarity between word: room and seed word:  view  :score: 0.13608335077163491\n",
      "compare similarity between word: room and seed word:  bed  :score: 0.4871586117617375\n",
      "compare similarity between word: room and seed word:  value  :score: 0.012570985900729137\n",
      "compare similarity between word: room and seed word:  price  :score: 0.04113056266717219\n",
      "compare similarity between word: room and seed word:  quality  :score: 0.04793091821973548\n",
      "compare similarity between word: room and seed word:  worth  :score: 0.07295472211216647\n",
      "compare similarity between word: room and seed word:  location  :score: 0.13973994411526203\n",
      "compare similarity between word: room and seed word:  traffic  :score: 0.04628944875827419\n",
      "compare similarity between word: room and seed word:  minute  :score: 0.20047958328345547\n",
      "compare similarity between word: room and seed word:  restaurant  :score: 0.22179641063531685\n",
      "compare similarity between word: especially and seed word:  clean  :score: 0.10652462782895146\n",
      "compare similarity between word: especially and seed word:  dirty  :score: 0.1921322694947578\n",
      "compare similarity between word: especially and seed word:  maintain  :score: 0.16898976965764284\n",
      "compare similarity between word: especially and seed word:  smell  :score: 0.12257093864464176\n",
      "compare similarity between word: especially and seed word:  room  :score: 0.0302557456881547\n",
      "compare similarity between word: especially and seed word:  suite  :score: -0.016239716917313463\n",
      "compare similarity between word: especially and seed word:  view  :score: 0.14297247849130407\n",
      "compare similarity between word: especially and seed word:  bed  :score: 0.04043466044072638\n",
      "compare similarity between word: especially and seed word:  value  :score: 0.07431174990079667\n",
      "compare similarity between word: especially and seed word:  price  :score: 0.045424640400869784\n",
      "compare similarity between word: especially and seed word:  quality  :score: 0.2627953823625421\n",
      "compare similarity between word: especially and seed word:  worth  :score: 0.04034056121673856\n",
      "compare similarity between word: especially and seed word:  location  :score: 0.10575849447636942\n",
      "compare similarity between word: especially and seed word:  traffic  :score: 0.09983145597226424\n",
      "compare similarity between word: especially and seed word:  minute  :score: -0.03415538940700647\n",
      "compare similarity between word: especially and seed word:  restaurant  :score: 0.04858142040584689\n",
      "compare similarity between word: price and seed word:  clean  :score: 0.031757896846145946\n",
      "compare similarity between word: price and seed word:  dirty  :score: 0.031886655675637955\n",
      "compare similarity between word: price and seed word:  maintain  :score: 0.11113138612617846\n",
      "compare similarity between word: price and seed word:  smell  :score: 0.15200713749486544\n",
      "compare similarity between word: price and seed word:  room  :score: 0.04113056266717219\n",
      "compare similarity between word: price and seed word:  suite  :score: 0.04450435853937202\n",
      "compare similarity between word: price and seed word:  view  :score: 0.15459341076835828\n",
      "compare similarity between word: price and seed word:  bed  :score: 0.06001015440672927\n",
      "compare similarity between word: price and seed word:  value  :score: 0.4866056951102736\n",
      "compare similarity between word: price and seed word:  price  :score: 1.0000000000000002\n",
      "compare similarity between word: price and seed word:  quality  :score: 0.2416796862673018\n",
      "compare similarity between word: price and seed word:  worth  :score: 0.29369224096523516\n",
      "compare similarity between word: price and seed word:  location  :score: 0.16304234822855168\n",
      "compare similarity between word: price and seed word:  traffic  :score: 0.10172073358102064\n",
      "compare similarity between word: price and seed word:  minute  :score: 0.08856197470555555\n",
      "compare similarity between word: price and seed word:  restaurant  :score: 0.02406370680274478\n",
      "compare similarity between word: clean and seed word:  clean  :score: 0.9999999999999997\n",
      "compare similarity between word: clean and seed word:  dirty  :score: 0.5180182181296203\n",
      "compare similarity between word: clean and seed word:  maintain  :score: 0.21188403692369728\n",
      "compare similarity between word: clean and seed word:  smell  :score: 0.23296498144112002\n",
      "compare similarity between word: clean and seed word:  room  :score: 0.12855942682632465\n",
      "compare similarity between word: clean and seed word:  suite  :score: 0.06402424557598893\n",
      "compare similarity between word: clean and seed word:  view  :score: 0.04690627981742822\n",
      "compare similarity between word: clean and seed word:  bed  :score: 0.14303752576679135\n",
      "compare similarity between word: clean and seed word:  value  :score: 0.026112069336228113\n",
      "compare similarity between word: clean and seed word:  price  :score: 0.031757896846145946\n",
      "compare similarity between word: clean and seed word:  quality  :score: 0.2277813312750856\n",
      "compare similarity between word: clean and seed word:  worth  :score: 0.11643344276854257\n",
      "compare similarity between word: clean and seed word:  location  :score: 0.025209671583659374\n",
      "compare similarity between word: clean and seed word:  traffic  :score: 0.036830874025446915\n",
      "compare similarity between word: clean and seed word:  minute  :score: 0.05761148578101577\n",
      "compare similarity between word: clean and seed word:  restaurant  :score: 0.08123674123533997\n"
     ]
    }
   ],
   "source": [
    "# Used ssentence with stop words removed. Did not convert to stem words due to previous error.\n",
    "\n",
    "word_aspect = dict()\n",
    "top_aspects = list()\n",
    "for word in filtered_sentence2:\n",
    "    for aspect, seeds in aspects_seeds.iteritems():\n",
    "        word_aspect[aspect] = 0\n",
    "        for seed in seeds:\n",
    "            # calculate simmilary between word and the acpect seed word\n",
    "            print \"compare similarity between word:\", word, \"and seed word: \", seed, \" :score:\", model.similarity(word, seed)\n",
    "            word_aspect[aspect] += model.similarity(word, seed)\n",
    "        # calculate the mean of the similarity with each seed word.        \n",
    "        word_aspect[aspect] = word_aspect[aspect] / len(seeds)\n",
    "    # capture top aspects for the word\n",
    "    for aspect, mean_similarity in word_aspect.iteritems():\n",
    "        if mean_similarity > THRESHOLD:\n",
    "            top_aspects.append(aspect)    "
   ]
  },
  {
   "cell_type": "code",
   "execution_count": 163,
   "metadata": {},
   "outputs": [
    {
     "data": {
      "text/plain": [
       "['room', 'value', 'cleanliness']"
      ]
     },
     "execution_count": 163,
     "metadata": {},
     "output_type": "execute_result"
    }
   ],
   "source": [
    "top_aspects"
   ]
  },
  {
   "cell_type": "code",
   "execution_count": null,
   "metadata": {},
   "outputs": [],
   "source": []
  }
 ],
 "metadata": {
  "kernelspec": {
   "display_name": "Python 2",
   "language": "python",
   "name": "python2"
  },
  "language_info": {
   "codemirror_mode": {
    "name": "ipython",
    "version": 2
   },
   "file_extension": ".py",
   "mimetype": "text/x-python",
   "name": "python",
   "nbconvert_exporter": "python",
   "pygments_lexer": "ipython2",
   "version": "2.7.14"
  }
 },
 "nbformat": 4,
 "nbformat_minor": 2
}
